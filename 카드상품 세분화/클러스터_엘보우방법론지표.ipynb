{
 "cells": [
  {
   "cell_type": "code",
   "execution_count": 1,
   "metadata": {},
   "outputs": [
    {
     "name": "stdout",
     "output_type": "stream",
     "text": [
      "Requirement already satisfied: missingno in d:\\anaconda\\lib\\site-packages (0.5.2)\n",
      "Requirement already satisfied: numpy in d:\\anaconda\\lib\\site-packages (from missingno) (1.26.4)\n",
      "Requirement already satisfied: matplotlib in d:\\anaconda\\lib\\site-packages (from missingno) (3.8.4)\n",
      "Requirement already satisfied: scipy in d:\\anaconda\\lib\\site-packages (from missingno) (1.13.1)\n",
      "Requirement already satisfied: seaborn in d:\\anaconda\\lib\\site-packages (from missingno) (0.13.2)\n",
      "Requirement already satisfied: contourpy>=1.0.1 in d:\\anaconda\\lib\\site-packages (from matplotlib->missingno) (1.2.0)\n",
      "Requirement already satisfied: cycler>=0.10 in d:\\anaconda\\lib\\site-packages (from matplotlib->missingno) (0.11.0)\n",
      "Requirement already satisfied: fonttools>=4.22.0 in d:\\anaconda\\lib\\site-packages (from matplotlib->missingno) (4.51.0)\n",
      "Requirement already satisfied: kiwisolver>=1.3.1 in d:\\anaconda\\lib\\site-packages (from matplotlib->missingno) (1.4.4)\n",
      "Requirement already satisfied: packaging>=20.0 in d:\\anaconda\\lib\\site-packages (from matplotlib->missingno) (24.1)\n",
      "Requirement already satisfied: pillow>=8 in d:\\anaconda\\lib\\site-packages (from matplotlib->missingno) (10.3.0)\n",
      "Requirement already satisfied: pyparsing>=2.3.1 in d:\\anaconda\\lib\\site-packages (from matplotlib->missingno) (3.0.9)\n",
      "Requirement already satisfied: python-dateutil>=2.7 in d:\\anaconda\\lib\\site-packages (from matplotlib->missingno) (2.9.0.post0)\n",
      "Requirement already satisfied: pandas>=1.2 in d:\\anaconda\\lib\\site-packages (from seaborn->missingno) (2.2.2)\n",
      "Requirement already satisfied: pytz>=2020.1 in d:\\anaconda\\lib\\site-packages (from pandas>=1.2->seaborn->missingno) (2024.2)\n",
      "Requirement already satisfied: tzdata>=2022.7 in d:\\anaconda\\lib\\site-packages (from pandas>=1.2->seaborn->missingno) (2024.2)\n",
      "Requirement already satisfied: six>=1.5 in d:\\anaconda\\lib\\site-packages (from python-dateutil>=2.7->matplotlib->missingno) (1.16.0)\n",
      "Requirement already satisfied: kmodes in d:\\anaconda\\lib\\site-packages (0.12.2)\n",
      "Requirement already satisfied: numpy>=1.10.4 in d:\\anaconda\\lib\\site-packages (from kmodes) (1.26.4)\n",
      "Requirement already satisfied: scikit-learn>=0.22.0 in d:\\anaconda\\lib\\site-packages (from kmodes) (1.4.2)\n",
      "Requirement already satisfied: scipy>=0.13.3 in d:\\anaconda\\lib\\site-packages (from kmodes) (1.13.1)\n",
      "Requirement already satisfied: joblib>=0.11 in d:\\anaconda\\lib\\site-packages (from kmodes) (1.4.2)\n",
      "Requirement already satisfied: threadpoolctl>=2.0.0 in d:\\anaconda\\lib\\site-packages (from scikit-learn>=0.22.0->kmodes) (2.2.0)\n"
     ]
    }
   ],
   "source": [
    "# 경고메세지 제거\n",
    "import warnings\n",
    "warnings.filterwarnings('ignore')\n",
    "\n",
    "# library import\n",
    "import numpy as np\n",
    "import pandas as pd\n",
    "import glob\n",
    "\n",
    "# 시각화 library import\n",
    "!pip install missingno\n",
    "import matplotlib as mpl\n",
    "import matplotlib.pyplot as plt\n",
    "import seaborn as sns\n",
    "\n",
    "#한글폰트 오류안나게\n",
    "import matplotlib.pyplot as plt\n",
    "from matplotlib import font_manager\n",
    "\n",
    "#font_fname = 'C:\\\\Windows\\\\Fonts\\\\batang.ttc' # 아래한글 함초롱바탕 글꼴\n",
    "#font_family = font_manager.FontProperties(fname=font_fname).get_name()\n",
    "#plt.rcParams['font.family'] = font_family\n",
    "\n",
    "!pip install kmodes\n",
    "from sklearn.preprocessing import MinMaxScaler\n",
    "from kmodes.kprototypes import KPrototypes\n",
    "from sklearn.utils import resample"
   ]
  },
  {
   "cell_type": "code",
   "execution_count": 2,
   "metadata": {},
   "outputs": [],
   "source": [
    "cluster_data= pd.read_csv('범주형클러스터링_회원정보.csv')"
   ]
  },
  {
   "cell_type": "code",
   "execution_count": 14,
   "metadata": {},
   "outputs": [],
   "source": [
    "cluster_data= cluster_data.drop(columns=['Unnamed: 0'])"
   ]
  },
  {
   "cell_type": "code",
   "execution_count": 15,
   "metadata": {},
   "outputs": [
    {
     "data": {
      "text/html": [
       "<div>\n",
       "<style scoped>\n",
       "    .dataframe tbody tr th:only-of-type {\n",
       "        vertical-align: middle;\n",
       "    }\n",
       "\n",
       "    .dataframe tbody tr th {\n",
       "        vertical-align: top;\n",
       "    }\n",
       "\n",
       "    .dataframe thead th {\n",
       "        text-align: right;\n",
       "    }\n",
       "</style>\n",
       "<table border=\"1\" class=\"dataframe\">\n",
       "  <thead>\n",
       "    <tr style=\"text-align: right;\">\n",
       "      <th></th>\n",
       "      <th>정규화_부유도</th>\n",
       "      <th>Life_Stage</th>\n",
       "      <th>VIP등급코드</th>\n",
       "      <th>1순위업종</th>\n",
       "      <th>2순위업종</th>\n",
       "      <th>3순위업종</th>\n",
       "      <th>기준년월</th>\n",
       "      <th>연령</th>\n",
       "      <th>회원여부_이용가능</th>\n",
       "      <th>회원여부_이용가능_CA</th>\n",
       "      <th>...</th>\n",
       "      <th>최종카드발급경과월</th>\n",
       "      <th>총이용금액</th>\n",
       "      <th>총유효카드수</th>\n",
       "      <th>총연회비</th>\n",
       "      <th>연체비율</th>\n",
       "      <th>부유도_지표</th>\n",
       "      <th>이용금액_신판_B0M</th>\n",
       "      <th>이용금액_신판_R3M</th>\n",
       "      <th>이용금액_신판_R6M</th>\n",
       "      <th>이용금액_신판_R12M</th>\n",
       "    </tr>\n",
       "  </thead>\n",
       "  <tbody>\n",
       "    <tr>\n",
       "      <th>0</th>\n",
       "      <td>2.176212</td>\n",
       "      <td>5</td>\n",
       "      <td>7.0</td>\n",
       "      <td>납부</td>\n",
       "      <td>쇼핑</td>\n",
       "      <td>일상생활</td>\n",
       "      <td>201812</td>\n",
       "      <td>40.0</td>\n",
       "      <td>1</td>\n",
       "      <td>1</td>\n",
       "      <td>...</td>\n",
       "      <td>27</td>\n",
       "      <td>-90838</td>\n",
       "      <td>2</td>\n",
       "      <td>0</td>\n",
       "      <td>-0.0</td>\n",
       "      <td>-36330.75</td>\n",
       "      <td>107903</td>\n",
       "      <td>318059</td>\n",
       "      <td>718343</td>\n",
       "      <td>3262344</td>\n",
       "    </tr>\n",
       "    <tr>\n",
       "      <th>1</th>\n",
       "      <td>2.413563</td>\n",
       "      <td>4</td>\n",
       "      <td>Missing</td>\n",
       "      <td>납부</td>\n",
       "      <td>쇼핑</td>\n",
       "      <td>교통</td>\n",
       "      <td>201812</td>\n",
       "      <td>30.0</td>\n",
       "      <td>1</td>\n",
       "      <td>1</td>\n",
       "      <td>...</td>\n",
       "      <td>23</td>\n",
       "      <td>1417978</td>\n",
       "      <td>1</td>\n",
       "      <td>0</td>\n",
       "      <td>0.0</td>\n",
       "      <td>567194.50</td>\n",
       "      <td>243960</td>\n",
       "      <td>786755</td>\n",
       "      <td>1655640</td>\n",
       "      <td>5604157</td>\n",
       "    </tr>\n",
       "    <tr>\n",
       "      <th>2</th>\n",
       "      <td>2.289359</td>\n",
       "      <td>4</td>\n",
       "      <td>Missing</td>\n",
       "      <td>Missing</td>\n",
       "      <td>Missing</td>\n",
       "      <td>Missing</td>\n",
       "      <td>201812</td>\n",
       "      <td>40.0</td>\n",
       "      <td>1</td>\n",
       "      <td>1</td>\n",
       "      <td>...</td>\n",
       "      <td>10</td>\n",
       "      <td>628424</td>\n",
       "      <td>1</td>\n",
       "      <td>0</td>\n",
       "      <td>0.0</td>\n",
       "      <td>251373.90</td>\n",
       "      <td>273763</td>\n",
       "      <td>273763</td>\n",
       "      <td>273763</td>\n",
       "      <td>757181</td>\n",
       "    </tr>\n",
       "    <tr>\n",
       "      <th>3</th>\n",
       "      <td>2.243714</td>\n",
       "      <td>4</td>\n",
       "      <td>Missing</td>\n",
       "      <td>교통</td>\n",
       "      <td>Missing</td>\n",
       "      <td>Missing</td>\n",
       "      <td>201812</td>\n",
       "      <td>40.0</td>\n",
       "      <td>1</td>\n",
       "      <td>1</td>\n",
       "      <td>...</td>\n",
       "      <td>48</td>\n",
       "      <td>338262</td>\n",
       "      <td>3</td>\n",
       "      <td>0</td>\n",
       "      <td>0.0</td>\n",
       "      <td>135309.40</td>\n",
       "      <td>48942</td>\n",
       "      <td>146868</td>\n",
       "      <td>268087</td>\n",
       "      <td>468022</td>\n",
       "    </tr>\n",
       "    <tr>\n",
       "      <th>4</th>\n",
       "      <td>2.190502</td>\n",
       "      <td>5</td>\n",
       "      <td>Missing</td>\n",
       "      <td>Missing</td>\n",
       "      <td>Missing</td>\n",
       "      <td>Missing</td>\n",
       "      <td>201812</td>\n",
       "      <td>40.0</td>\n",
       "      <td>0</td>\n",
       "      <td>0</td>\n",
       "      <td>...</td>\n",
       "      <td>22</td>\n",
       "      <td>0</td>\n",
       "      <td>1</td>\n",
       "      <td>0</td>\n",
       "      <td>0.0</td>\n",
       "      <td>4.30</td>\n",
       "      <td>0</td>\n",
       "      <td>0</td>\n",
       "      <td>0</td>\n",
       "      <td>673648</td>\n",
       "    </tr>\n",
       "  </tbody>\n",
       "</table>\n",
       "<p>5 rows × 84 columns</p>\n",
       "</div>"
      ],
      "text/plain": [
       "    정규화_부유도  Life_Stage  VIP등급코드    1순위업종    2순위업종    3순위업종    기준년월    연령  \\\n",
       "0  2.176212           5      7.0       납부       쇼핑     일상생활  201812  40.0   \n",
       "1  2.413563           4  Missing       납부       쇼핑       교통  201812  30.0   \n",
       "2  2.289359           4  Missing  Missing  Missing  Missing  201812  40.0   \n",
       "3  2.243714           4  Missing       교통  Missing  Missing  201812  40.0   \n",
       "4  2.190502           5  Missing  Missing  Missing  Missing  201812  40.0   \n",
       "\n",
       "   회원여부_이용가능  회원여부_이용가능_CA  ...  최종카드발급경과월    총이용금액  총유효카드수  총연회비  연체비율  \\\n",
       "0          1             1  ...         27   -90838       2     0  -0.0   \n",
       "1          1             1  ...         23  1417978       1     0   0.0   \n",
       "2          1             1  ...         10   628424       1     0   0.0   \n",
       "3          1             1  ...         48   338262       3     0   0.0   \n",
       "4          0             0  ...         22        0       1     0   0.0   \n",
       "\n",
       "      부유도_지표  이용금액_신판_B0M  이용금액_신판_R3M  이용금액_신판_R6M  이용금액_신판_R12M  \n",
       "0  -36330.75       107903       318059       718343       3262344  \n",
       "1  567194.50       243960       786755      1655640       5604157  \n",
       "2  251373.90       273763       273763       273763        757181  \n",
       "3  135309.40        48942       146868       268087        468022  \n",
       "4       4.30            0            0            0        673648  \n",
       "\n",
       "[5 rows x 84 columns]"
      ]
     },
     "execution_count": 15,
     "metadata": {},
     "output_type": "execute_result"
    }
   ],
   "source": [
    "cluster_data.head()"
   ]
  },
  {
   "cell_type": "code",
   "execution_count": 16,
   "metadata": {},
   "outputs": [
    {
     "data": {
      "text/plain": [
       "(2873611, 84)"
      ]
     },
     "execution_count": 16,
     "metadata": {},
     "output_type": "execute_result"
    }
   ],
   "source": [
    "cluster_data.shape"
   ]
  },
  {
   "cell_type": "code",
   "execution_count": 4,
   "metadata": {},
   "outputs": [],
   "source": [
    "# 범주형 컬럼만 선택\n",
    "categorical_columns = ['Life_Stage', 'VIP등급코드', '1순위업종', '2순위업종', '3순위업종']"
   ]
  },
  {
   "cell_type": "code",
   "execution_count": 5,
   "metadata": {},
   "outputs": [],
   "source": [
    "# 범주형 컬럼의 인덱스 얻기\n",
    "categorical_columns_indices = [cluster_data.columns.get_loc(col) for col in categorical_columns]\n",
    "#print(categorical_columns_indices)"
   ]
  },
  {
   "cell_type": "code",
   "execution_count": 17,
   "metadata": {},
   "outputs": [],
   "source": [
    "# 데이터의 20%를 샘플링\n",
    "sampled_data = resample(cluster_data, n_samples=int(len(cluster_data) * 0.2), random_state=42)"
   ]
  },
  {
   "cell_type": "code",
   "execution_count": 18,
   "metadata": {},
   "outputs": [
    {
     "data": {
      "text/plain": [
       "(574722, 84)"
      ]
     },
     "execution_count": 18,
     "metadata": {},
     "output_type": "execute_result"
    }
   ],
   "source": [
    "sampled_data.shape"
   ]
  },
  {
   "cell_type": "code",
   "execution_count": 21,
   "metadata": {},
   "outputs": [],
   "source": [
    "# 데이터프레임을 CSV 파일로 내보내기\n",
    "sampled_data.to_csv('sampled_data_1121.csv', index=False, encoding='utf-8-sig')"
   ]
  },
  {
   "cell_type": "code",
   "execution_count": 8,
   "metadata": {},
   "outputs": [
    {
     "name": "stdout",
     "output_type": "stream",
     "text": [
      "[INFO] K=2 클러스터링 완료, 소요 시간: 1456.91초\n",
      "[INFO] K=3 클러스터링 완료, 소요 시간: 1320.45초\n",
      "[INFO] K=4 클러스터링 완료, 소요 시간: 2303.68초\n",
      "[INFO] K=5 클러스터링 완료, 소요 시간: 2904.19초\n",
      "[INFO] K=6 클러스터링 완료, 소요 시간: 4450.13초\n"
     ]
    },
    {
     "data": {
      "image/png": "[encoded data removed]",
      "text/plain": [
       "<Figure size 800x500 with 1 Axes>"
      ]
     },
     "metadata": {},
     "output_type": "display_data"
    }
   ],
   "source": [
    "import time\n",
    "from sklearn.utils import resample\n",
    "\n",
    "# 데이터 샘플링 (20%)\n",
    "sampled_data = resample(cluster_data, n_samples=int(len(cluster_data) * 0.2), random_state=42)  # 20% 샘플링\n",
    "\n",
    "# 클러스터 개수와 비용 저장\n",
    "costs = []\n",
    "k_values = range(2, 7)  # 클러스터 개수를 2부터 6까지 시도\n",
    "\n",
    "# K-Prototypes 실행\n",
    "for k in k_values:\n",
    "    start_time = time.time()  # 클러스터링 시작 시간 기록\n",
    "    kproto = KPrototypes(n_clusters=k, init='Cao', n_init=2, max_iter=100, random_state=42)  # 초기화 방식과 반복 횟수 제한 추가\n",
    "    kproto.fit(sampled_data, categorical=categorical_columns_indices)  # 범주형 컬럼 전달\n",
    "    costs.append(kproto.cost_)\n",
    "    elapsed_time = time.time() - start_time  # 소요 시간 계산\n",
    "    \n",
    "    # 진행 상황 출력\n",
    "    print(f\"[INFO] K={k} 클러스터링 완료, 소요 시간: {elapsed_time:.2f}초\")\n",
    "\n",
    "# 그래프 출력 (엘보우 그래프)\n",
    "plt.figure(figsize=(8, 5))\n",
    "plt.plot(k_values, costs, marker='o')\n",
    "plt.xlabel('Number of Clusters (k)')\n",
    "plt.ylabel('Cost')\n",
    "plt.title('Elbow Method for Optimal k (K-Prototypes)')\n",
    "plt.show()"
   ]
  },
  {
   "cell_type": "markdown",
   "metadata": {},
   "source": [
    "**아래 코드는 사용하지않는 코드**"
   ]
  },
  {
   "cell_type": "code",
   "execution_count": null,
   "metadata": {},
   "outputs": [],
   "source": [
    "\n",
    "#sampled_data = sampled_data[['정규화_부유도','Life_Stage', 'VIP등급코드', '1순위업종', '2순위업종', '3순위업종']]"
   ]
  },
  {
   "cell_type": "code",
   "execution_count": null,
   "metadata": {},
   "outputs": [
    {
     "data": {
      "text/plain": [
       "(574722, 6)"
      ]
     },
     "execution_count": 23,
     "metadata": {},
     "output_type": "execute_result"
    }
   ],
   "source": [
    "#sampled_data.shape"
   ]
  },
  {
   "cell_type": "code",
   "execution_count": null,
   "metadata": {},
   "outputs": [],
   "source": [
    "# 수치형과 범주형 컬럼 구분\n",
    "#numeric_columns = ['정규화_부유도']\n",
    "#categorical_columns = ['Life_Stage', 'VIP등급코드', '1순위업종', '2순위업종', '3순위업종']\n",
    "\n",
    "# 범주형 컬럼 인덱스\n",
    "#categorical_columns_indices = [sampled_data.columns.get_loc(col) for col in categorical_columns]\n",
    "\n",
    "# 수치형 데이터\n",
    "#data_numeric = sampled_data[numeric_columns].values"
   ]
  },
  {
   "cell_type": "code",
   "execution_count": null,
   "metadata": {},
   "outputs": [
    {
     "data": {
      "text/plain": [
       "(574722, 6)"
      ]
     },
     "execution_count": 25,
     "metadata": {},
     "output_type": "execute_result"
    }
   ],
   "source": [
    "#sampled_data.shape"
   ]
  },
  {
   "cell_type": "code",
   "execution_count": null,
   "metadata": {},
   "outputs": [],
   "source": [
    "# K-Prototypes 실행\n",
    "#kproto = KPrototypes(n_clusters=4, init='Huang', random_state=42)\n",
    "#clusters = kproto.fit_predict(sampled_data.values, categorical=categorical_columns_indices)\n",
    "\n",
    "# 클러스터결과를 데이터프레임에추가\n",
    "#sampled_data['Cluster'] = clusters"
   ]
  }
 ],
 "metadata": {
  "kernelspec": {
   "display_name": "base",
   "language": "python",
   "name": "python3"
  },
  "language_info": {
   "codemirror_mode": {
    "name": "ipython",
    "version": 3
   },
   "file_extension": ".py",
   "mimetype": "text/x-python",
   "name": "python",
   "nbconvert_exporter": "python",
   "pygments_lexer": "ipython3",
   "version": "3.12.4"
  }
 },
 "nbformat": 4,
 "nbformat_minor": 2
}
