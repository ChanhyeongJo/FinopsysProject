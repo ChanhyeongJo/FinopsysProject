{
 "cells": [
  {
   "cell_type": "code",
   "execution_count": 1,
   "metadata": {},
   "outputs": [
    {
     "name": "stdout",
     "output_type": "stream",
     "text": [
      "Defaulting to user installation because normal site-packages is not writeable\n",
      "Requirement already satisfied: missingno in c:\\users\\hcw\\appdata\\local\\packages\\pythonsoftwarefoundation.python.3.12_qbz5n2kfra8p0\\localcache\\local-packages\\python312\\site-packages (0.5.2)\n",
      "Requirement already satisfied: numpy in c:\\users\\hcw\\appdata\\local\\packages\\pythonsoftwarefoundation.python.3.12_qbz5n2kfra8p0\\localcache\\local-packages\\python312\\site-packages (from missingno) (1.26.4)\n",
      "Requirement already satisfied: matplotlib in c:\\users\\hcw\\appdata\\local\\packages\\pythonsoftwarefoundation.python.3.12_qbz5n2kfra8p0\\localcache\\local-packages\\python312\\site-packages (from missingno) (3.9.2)\n",
      "Requirement already satisfied: scipy in c:\\users\\hcw\\appdata\\local\\packages\\pythonsoftwarefoundation.python.3.12_qbz5n2kfra8p0\\localcache\\local-packages\\python312\\site-packages (from missingno) (1.14.1)\n",
      "Requirement already satisfied: seaborn in c:\\users\\hcw\\appdata\\local\\packages\\pythonsoftwarefoundation.python.3.12_qbz5n2kfra8p0\\localcache\\local-packages\\python312\\site-packages (from missingno) (0.13.2)\n",
      "Requirement already satisfied: contourpy>=1.0.1 in c:\\users\\hcw\\appdata\\local\\packages\\pythonsoftwarefoundation.python.3.12_qbz5n2kfra8p0\\localcache\\local-packages\\python312\\site-packages (from matplotlib->missingno) (1.3.0)\n",
      "Requirement already satisfied: cycler>=0.10 in c:\\users\\hcw\\appdata\\local\\packages\\pythonsoftwarefoundation.python.3.12_qbz5n2kfra8p0\\localcache\\local-packages\\python312\\site-packages (from matplotlib->missingno) (0.12.1)\n",
      "Requirement already satisfied: fonttools>=4.22.0 in c:\\users\\hcw\\appdata\\local\\packages\\pythonsoftwarefoundation.python.3.12_qbz5n2kfra8p0\\localcache\\local-packages\\python312\\site-packages (from matplotlib->missingno) (4.53.1)\n",
      "Requirement already satisfied: kiwisolver>=1.3.1 in c:\\users\\hcw\\appdata\\local\\packages\\pythonsoftwarefoundation.python.3.12_qbz5n2kfra8p0\\localcache\\local-packages\\python312\\site-packages (from matplotlib->missingno) (1.4.7)\n",
      "Requirement already satisfied: packaging>=20.0 in c:\\users\\hcw\\appdata\\local\\packages\\pythonsoftwarefoundation.python.3.12_qbz5n2kfra8p0\\localcache\\local-packages\\python312\\site-packages (from matplotlib->missingno) (24.1)\n",
      "Requirement already satisfied: pillow>=8 in c:\\users\\hcw\\appdata\\local\\packages\\pythonsoftwarefoundation.python.3.12_qbz5n2kfra8p0\\localcache\\local-packages\\python312\\site-packages (from matplotlib->missingno) (10.4.0)\n",
      "Requirement already satisfied: pyparsing>=2.3.1 in c:\\users\\hcw\\appdata\\local\\packages\\pythonsoftwarefoundation.python.3.12_qbz5n2kfra8p0\\localcache\\local-packages\\python312\\site-packages (from matplotlib->missingno) (3.1.4)\n",
      "Requirement already satisfied: python-dateutil>=2.7 in c:\\users\\hcw\\appdata\\local\\packages\\pythonsoftwarefoundation.python.3.12_qbz5n2kfra8p0\\localcache\\local-packages\\python312\\site-packages (from matplotlib->missingno) (2.9.0.post0)\n",
      "Requirement already satisfied: pandas>=1.2 in c:\\users\\hcw\\appdata\\local\\packages\\pythonsoftwarefoundation.python.3.12_qbz5n2kfra8p0\\localcache\\local-packages\\python312\\site-packages (from seaborn->missingno) (2.2.2)\n",
      "Requirement already satisfied: pytz>=2020.1 in c:\\users\\hcw\\appdata\\local\\packages\\pythonsoftwarefoundation.python.3.12_qbz5n2kfra8p0\\localcache\\local-packages\\python312\\site-packages (from pandas>=1.2->seaborn->missingno) (2024.2)\n",
      "Requirement already satisfied: tzdata>=2022.7 in c:\\users\\hcw\\appdata\\local\\packages\\pythonsoftwarefoundation.python.3.12_qbz5n2kfra8p0\\localcache\\local-packages\\python312\\site-packages (from pandas>=1.2->seaborn->missingno) (2024.1)\n",
      "Requirement already satisfied: six>=1.5 in c:\\users\\hcw\\appdata\\local\\packages\\pythonsoftwarefoundation.python.3.12_qbz5n2kfra8p0\\localcache\\local-packages\\python312\\site-packages (from python-dateutil>=2.7->matplotlib->missingno) (1.16.0)\n"
     ]
    },
    {
     "name": "stderr",
     "output_type": "stream",
     "text": [
      "\n",
      "[notice] A new release of pip is available: 24.2 -> 24.3.1\n",
      "[notice] To update, run: C:\\Users\\HCW\\AppData\\Local\\Microsoft\\WindowsApps\\PythonSoftwareFoundation.Python.3.12_qbz5n2kfra8p0\\python.exe -m pip install --upgrade pip\n"
     ]
    }
   ],
   "source": [
    "# 경고메세지 제거\n",
    "import warnings\n",
    "warnings.filterwarnings('ignore')\n",
    "\n",
    "# library import\n",
    "import numpy as np\n",
    "import pandas as pd\n",
    "import glob\n",
    "\n",
    "# 시각화 library import\n",
    "!pip install missingno\n",
    "import matplotlib as mpl\n",
    "import matplotlib.pyplot as plt\n",
    "import seaborn as sns\n",
    "\n",
    "#한글폰트 오류안나게\n",
    "import matplotlib.pyplot as plt\n",
    "from matplotlib import font_manager\n",
    "\n",
    "font_fname = 'C:\\\\Windows\\\\Fonts\\\\batang.ttc' # 아래한글 함초롱바탕 글꼴\n",
    "font_family = font_manager.FontProperties(fname=font_fname).get_name()\n",
    "plt.rcParams['font.family'] = font_family"
   ]
  },
  {
   "cell_type": "code",
   "execution_count": 2,
   "metadata": {},
   "outputs": [],
   "source": [
    "data = pd.read_csv('user_final.csv')\n"
   ]
  },
  {
   "cell_type": "code",
   "execution_count": 3,
   "metadata": {},
   "outputs": [
    {
     "data": {
      "text/plain": [
       "(287293, 87)"
      ]
     },
     "execution_count": 3,
     "metadata": {},
     "output_type": "execute_result"
    }
   ],
   "source": [
    "data.shape"
   ]
  },
  {
   "cell_type": "code",
   "execution_count": 4,
   "metadata": {},
   "outputs": [],
   "source": [
    "from sklearn.metrics.pairwise import euclidean_distances"
   ]
  },
  {
   "cell_type": "code",
   "execution_count": 5,
   "metadata": {},
   "outputs": [
    {
     "data": {
      "text/plain": [
       "(287293, 85)"
      ]
     },
     "execution_count": 5,
     "metadata": {},
     "output_type": "execute_result"
    }
   ],
   "source": [
    "data = data.drop(columns = 'Unnamed: 0.1')\n",
    "data = data.drop(columns = 'Unnamed: 0')\n",
    "\n",
    "data.shape\n"
   ]
  },
  {
   "cell_type": "code",
   "execution_count": null,
   "metadata": {},
   "outputs": [],
   "source": []
  },
  {
   "cell_type": "code",
   "execution_count": 6,
   "metadata": {},
   "outputs": [
    {
     "data": {
      "text/html": [
       "<div>\n",
       "<style scoped>\n",
       "    .dataframe tbody tr th:only-of-type {\n",
       "        vertical-align: middle;\n",
       "    }\n",
       "\n",
       "    .dataframe tbody tr th {\n",
       "        vertical-align: top;\n",
       "    }\n",
       "\n",
       "    .dataframe thead th {\n",
       "        text-align: right;\n",
       "    }\n",
       "</style>\n",
       "<table border=\"1\" class=\"dataframe\">\n",
       "  <thead>\n",
       "    <tr style=\"text-align: right;\">\n",
       "      <th></th>\n",
       "      <th>정규화_부유도</th>\n",
       "      <th>Life_Stage</th>\n",
       "      <th>VIP등급코드</th>\n",
       "      <th>1순위업종</th>\n",
       "      <th>2순위업종</th>\n",
       "      <th>3순위업종</th>\n",
       "      <th>기준년월</th>\n",
       "      <th>연령</th>\n",
       "      <th>회원여부_이용가능</th>\n",
       "      <th>회원여부_이용가능_CA</th>\n",
       "      <th>...</th>\n",
       "      <th>총이용금액</th>\n",
       "      <th>총유효카드수</th>\n",
       "      <th>총연회비</th>\n",
       "      <th>연체비율</th>\n",
       "      <th>부유도_지표</th>\n",
       "      <th>이용금액_신판_B0M</th>\n",
       "      <th>이용금액_신판_R3M</th>\n",
       "      <th>이용금액_신판_R6M</th>\n",
       "      <th>이용금액_신판_R12M</th>\n",
       "      <th>Cluster</th>\n",
       "    </tr>\n",
       "  </thead>\n",
       "  <tbody>\n",
       "    <tr>\n",
       "      <th>0</th>\n",
       "      <td>2.190501</td>\n",
       "      <td>4</td>\n",
       "      <td>Missing</td>\n",
       "      <td>Missing</td>\n",
       "      <td>Missing</td>\n",
       "      <td>Missing</td>\n",
       "      <td>201812</td>\n",
       "      <td>30.0</td>\n",
       "      <td>1</td>\n",
       "      <td>1</td>\n",
       "      <td>...</td>\n",
       "      <td>0</td>\n",
       "      <td>1</td>\n",
       "      <td>0</td>\n",
       "      <td>0.0</td>\n",
       "      <td>3.30</td>\n",
       "      <td>0</td>\n",
       "      <td>0</td>\n",
       "      <td>0</td>\n",
       "      <td>0</td>\n",
       "      <td>0</td>\n",
       "    </tr>\n",
       "    <tr>\n",
       "      <th>1</th>\n",
       "      <td>2.589537</td>\n",
       "      <td>5</td>\n",
       "      <td>6.0</td>\n",
       "      <td>쇼핑</td>\n",
       "      <td>사교활동</td>\n",
       "      <td>Missing</td>\n",
       "      <td>201812</td>\n",
       "      <td>40.0</td>\n",
       "      <td>1</td>\n",
       "      <td>1</td>\n",
       "      <td>...</td>\n",
       "      <td>2536626</td>\n",
       "      <td>2</td>\n",
       "      <td>0</td>\n",
       "      <td>0.0</td>\n",
       "      <td>1014654.85</td>\n",
       "      <td>356157</td>\n",
       "      <td>1198209</td>\n",
       "      <td>2220619</td>\n",
       "      <td>8070164</td>\n",
       "      <td>1</td>\n",
       "    </tr>\n",
       "    <tr>\n",
       "      <th>2</th>\n",
       "      <td>2.293384</td>\n",
       "      <td>7</td>\n",
       "      <td>Missing</td>\n",
       "      <td>납부</td>\n",
       "      <td>Missing</td>\n",
       "      <td>Missing</td>\n",
       "      <td>201812</td>\n",
       "      <td>60.0</td>\n",
       "      <td>1</td>\n",
       "      <td>1</td>\n",
       "      <td>...</td>\n",
       "      <td>654004</td>\n",
       "      <td>1</td>\n",
       "      <td>0</td>\n",
       "      <td>0.0</td>\n",
       "      <td>261607.90</td>\n",
       "      <td>-10787</td>\n",
       "      <td>20528</td>\n",
       "      <td>-96041</td>\n",
       "      <td>1794462</td>\n",
       "      <td>0</td>\n",
       "    </tr>\n",
       "    <tr>\n",
       "      <th>3</th>\n",
       "      <td>2.190501</td>\n",
       "      <td>4</td>\n",
       "      <td>Missing</td>\n",
       "      <td>Missing</td>\n",
       "      <td>Missing</td>\n",
       "      <td>Missing</td>\n",
       "      <td>201812</td>\n",
       "      <td>30.0</td>\n",
       "      <td>1</td>\n",
       "      <td>1</td>\n",
       "      <td>...</td>\n",
       "      <td>0</td>\n",
       "      <td>1</td>\n",
       "      <td>0</td>\n",
       "      <td>0.0</td>\n",
       "      <td>3.30</td>\n",
       "      <td>0</td>\n",
       "      <td>0</td>\n",
       "      <td>0</td>\n",
       "      <td>132649</td>\n",
       "      <td>0</td>\n",
       "    </tr>\n",
       "    <tr>\n",
       "      <th>4</th>\n",
       "      <td>2.706978</td>\n",
       "      <td>2</td>\n",
       "      <td>Missing</td>\n",
       "      <td>쇼핑</td>\n",
       "      <td>교통</td>\n",
       "      <td>사교활동</td>\n",
       "      <td>201812</td>\n",
       "      <td>20.0</td>\n",
       "      <td>1</td>\n",
       "      <td>1</td>\n",
       "      <td>...</td>\n",
       "      <td>3283186</td>\n",
       "      <td>1</td>\n",
       "      <td>0</td>\n",
       "      <td>0.0</td>\n",
       "      <td>1313276.70</td>\n",
       "      <td>520032</td>\n",
       "      <td>1663858</td>\n",
       "      <td>3411965</td>\n",
       "      <td>5113491</td>\n",
       "      <td>1</td>\n",
       "    </tr>\n",
       "  </tbody>\n",
       "</table>\n",
       "<p>5 rows × 85 columns</p>\n",
       "</div>"
      ],
      "text/plain": [
       "    정규화_부유도  Life_Stage  VIP등급코드    1순위업종    2순위업종    3순위업종    기준년월    연령  \\\n",
       "0  2.190501           4  Missing  Missing  Missing  Missing  201812  30.0   \n",
       "1  2.589537           5      6.0       쇼핑     사교활동  Missing  201812  40.0   \n",
       "2  2.293384           7  Missing       납부  Missing  Missing  201812  60.0   \n",
       "3  2.190501           4  Missing  Missing  Missing  Missing  201812  30.0   \n",
       "4  2.706978           2  Missing       쇼핑       교통     사교활동  201812  20.0   \n",
       "\n",
       "   회원여부_이용가능  회원여부_이용가능_CA  ...    총이용금액  총유효카드수  총연회비  연체비율      부유도_지표  \\\n",
       "0          1             1  ...        0       1     0   0.0        3.30   \n",
       "1          1             1  ...  2536626       2     0   0.0  1014654.85   \n",
       "2          1             1  ...   654004       1     0   0.0   261607.90   \n",
       "3          1             1  ...        0       1     0   0.0        3.30   \n",
       "4          1             1  ...  3283186       1     0   0.0  1313276.70   \n",
       "\n",
       "   이용금액_신판_B0M  이용금액_신판_R3M  이용금액_신판_R6M  이용금액_신판_R12M  Cluster  \n",
       "0            0            0            0             0        0  \n",
       "1       356157      1198209      2220619       8070164        1  \n",
       "2       -10787        20528       -96041       1794462        0  \n",
       "3            0            0            0        132649        0  \n",
       "4       520032      1663858      3411965       5113491        1  \n",
       "\n",
       "[5 rows x 85 columns]"
      ]
     },
     "execution_count": 6,
     "metadata": {},
     "output_type": "execute_result"
    }
   ],
   "source": [
    "data.head()"
   ]
  },
  {
   "cell_type": "code",
   "execution_count": null,
   "metadata": {},
   "outputs": [],
   "source": []
  },
  {
   "cell_type": "code",
   "execution_count": null,
   "metadata": {},
   "outputs": [],
   "source": []
  },
  {
   "cell_type": "code",
   "execution_count": 7,
   "metadata": {},
   "outputs": [
    {
     "data": {
      "text/plain": [
       "Index(['정규화_부유도', 'Life_Stage', 'VIP등급코드', '1순위업종', '2순위업종', '3순위업종', '기준년월',\n",
       "       '연령', '회원여부_이용가능', '회원여부_이용가능_CA', '회원여부_이용가능_카드론', '소지여부_신용',\n",
       "       '소지카드수_유효_신용', '소지카드수_이용가능_신용', '입회일자_신용', '입회경과개월수_신용', '회원여부_연체',\n",
       "       '이용거절여부_카드론', '동의여부_한도증액안내', '수신거부여부_TM', '수신거부여부_DM', '수신거부여부_메일',\n",
       "       '수신거부여부_SMS', '탈회횟수_누적', '최종탈회후경과월', '탈회횟수_발급6개월이내', '탈회횟수_발급1년이내',\n",
       "       '마케팅동의여부', '유효카드수_신용체크', '유효카드수_신용', '유효카드수_신용_가족', '유효카드수_체크',\n",
       "       '유효카드수_체크_가족', '이용가능카드수_신용체크', '이용가능카드수_신용', '이용가능카드수_신용_가족',\n",
       "       '이용가능카드수_체크', '이용가능카드수_체크_가족', '이용카드수_신용체크', '이용카드수_신용', '이용카드수_신용_가족',\n",
       "       '이용카드수_체크', '이용카드수_체크_가족', '이용금액_R3M_신용체크', '이용금액_R3M_신용',\n",
       "       '이용금액_R3M_신용_가족', '이용금액_R3M_체크', '이용금액_R3M_체크_가족', '_1순위카드이용금액',\n",
       "       '_1순위카드이용건수', '_2순위카드이용금액', '_2순위카드이용건수', '최종유효년월_신용_이용가능',\n",
       "       '최종유효년월_신용_이용', '최종카드발급일자', '보유여부_해외겸용_본인', '이용가능여부_해외겸용_본인',\n",
       "       '이용여부_3M_해외겸용_본인', '보유여부_해외겸용_신용_본인', '이용가능여부_해외겸용_신용_본인',\n",
       "       '이용여부_3M_해외겸용_신용_본인', '연회비발생카드수_B0M', '연회비할인카드수_B0M', '기본연회비_B0M',\n",
       "       '제휴연회비_B0M', '할인금액_기본연회비_B0M', '할인금액_제휴연회비_B0M', '청구금액_기본연회비_B0M',\n",
       "       '청구금액_제휴연회비_B0M', '상품관련면제카드수_B0M', '임직원면제카드수_B0M', '우수회원면제카드수_B0M',\n",
       "       '기타면제카드수_B0M', '카드신청건수', '최종카드발급경과월', '총이용금액', '총유효카드수', '총연회비', '연체비율',\n",
       "       '부유도_지표', '이용금액_신판_B0M', '이용금액_신판_R3M', '이용금액_신판_R6M', '이용금액_신판_R12M',\n",
       "       'Cluster'],\n",
       "      dtype='object')"
      ]
     },
     "execution_count": 7,
     "metadata": {},
     "output_type": "execute_result"
    }
   ],
   "source": [
    "data.columns"
   ]
  },
  {
   "cell_type": "code",
   "execution_count": 8,
   "metadata": {},
   "outputs": [],
   "source": [
    "data['cluster_detail'] = -1 # 초기값을 0으로 설정\n"
   ]
  },
  {
   "cell_type": "code",
   "execution_count": 9,
   "metadata": {},
   "outputs": [
    {
     "data": {
      "text/plain": [
       "count    2.872930e+05\n",
       "mean     3.331110e+06\n",
       "std      4.588623e+06\n",
       "min     -1.524028e+06\n",
       "25%      7.369600e+04\n",
       "50%      1.781954e+06\n",
       "75%      4.231644e+06\n",
       "max      4.466015e+07\n",
       "Name: 총이용금액, dtype: float64"
      ]
     },
     "execution_count": 9,
     "metadata": {},
     "output_type": "execute_result"
    }
   ],
   "source": [
    "data['총이용금액'].describe()"
   ]
  },
  {
   "cell_type": "code",
   "execution_count": 10,
   "metadata": {},
   "outputs": [
    {
     "data": {
      "text/plain": [
       "count    2.872930e+05\n",
       "mean     1.622665e+04\n",
       "std      5.720200e+05\n",
       "min     -6.506480e+01\n",
       "25%      0.000000e+00\n",
       "50%      0.000000e+00\n",
       "75%      0.000000e+00\n",
       "max      2.018102e+07\n",
       "Name: 연체비율, dtype: float64"
      ]
     },
     "execution_count": 10,
     "metadata": {},
     "output_type": "execute_result"
    }
   ],
   "source": [
    "data['연체비율'].describe()"
   ]
  },
  {
   "cell_type": "code",
   "execution_count": 11,
   "metadata": {},
   "outputs": [
    {
     "data": {
      "text/plain": [
       "4231644.0"
      ]
     },
     "execution_count": 11,
     "metadata": {},
     "output_type": "execute_result"
    }
   ],
   "source": [
    "4.231644e+06"
   ]
  },
  {
   "cell_type": "code",
   "execution_count": 12,
   "metadata": {},
   "outputs": [],
   "source": [
    "# 클러스터0_30대_그룹\n",
    "data.loc[\n",
    "    (data['Cluster'] == 0) & \n",
    "    (data['연령'] >= 30) & \n",
    "    (data['연령'] < 40) & \n",
    "    (data['총이용금액'] >= 4.231644e+06),  # 특정 임계값\n",
    "    'cluster_detail'\n",
    "] = 0\n",
    "\n",
    "# 클러스터0_20대_활동적 그룹\n",
    "data.loc[\n",
    "    (data['Cluster'] == 0) & \n",
    "    (data['연령'] >= 20) & \n",
    "    (data['연령'] < 30) & \n",
    "    (data['1순위업종'].str.contains('여행|여유생활', na=False)),\n",
    "    'cluster_detail'\n",
    "] = 0\n",
    "\n",
    "# 클러스터0_Life Stage 4 그룹\n",
    "data.loc[\n",
    "    (data['Cluster'] == 0) & \n",
    "    (data['Life_Stage'] == 4),\n",
    "    'cluster_detail'\n",
    "] = 0\n",
    "\n",
    "# 클러스터0_40대_가계중심 그룹\n",
    "data.loc[\n",
    "    (data['Cluster'] == 0) & \n",
    "    (data['연령'] >= 40) & \n",
    "    (data['연령'] < 50) & \n",
    "    (data['1순위업종'].str.contains('납부', na=False)),  # 특정 납부 관련 필드 값\n",
    "    'cluster_detail'\n",
    "] = 1\n",
    "\n",
    "# 클러스터0_50대_안정성 중시 그룹\n",
    "data.loc[\n",
    "    (data['Cluster'] == 0) & \n",
    "    (data['연령'] >= 50) & \n",
    "    (data['연령'] < 60) & \n",
    "    (data['연체비율'] < 0.05),\n",
    "    'cluster_detail'\n",
    "] = 1\n"
   ]
  },
  {
   "cell_type": "code",
   "execution_count": 13,
   "metadata": {},
   "outputs": [],
   "source": [
    "data.loc[\n",
    "    (data['Cluster'] == 0) & \n",
    "    (data['1순위업종'].str.contains('납부', na=False)),  # 공공요금 및 대출 관련 필드 값\n",
    "    'cluster_detail'\n",
    "] = 2\n",
    "\n",
    "\n",
    "data.loc[\n",
    "    (data['Cluster'] == 0) & \n",
    "    (data['1순위업종'].str.contains('교통', na=False)),  # 교통비 지출이 높은 기준\n",
    "    'cluster_detail'\n",
    "] = 3\n",
    "\n",
    "# 클러스터0_쇼핑 주 이용자 그룹\n",
    "data.loc[\n",
    "    (data['Cluster'] == 0) & \n",
    "    (data['1순위업종'].str.contains('쇼핑', na=False)),  # 쇼핑 관련 소비 금액 기준\n",
    "    'cluster_detail'\n",
    "] = 4\n",
    "\n",
    "\n",
    "\n",
    "\n"
   ]
  },
  {
   "cell_type": "code",
   "execution_count": 14,
   "metadata": {},
   "outputs": [],
   "source": [
    "# 클러스터1_50대_보수적 그룹\n",
    "data.loc[\n",
    "    (data['Cluster'] == 1) & \n",
    "    (data['연령'] >= 50) & \n",
    "    (data['연령'] < 60) & \n",
    "    (data['총이용금액'] < 7.369600e+04),\n",
    "    'cluster_detail'\n",
    "] = 5\n",
    "\n",
    "# 클러스터1_30대_기본소비 그룹\n",
    "data.loc[\n",
    "    (data['Cluster'] == 1) & \n",
    "    (data['연령'] >= 30) & \n",
    "    (data['연령'] < 40) & \n",
    "    (data['총이용금액'] < 7.369600e+04) & \n",
    "    (data['연체비율'] < 0.1),\n",
    "    'cluster_detail'\n",
    "] = 5\n",
    "\n",
    "# 클러스터1_Life Stage 5 그룹\n",
    "data.loc[\n",
    "    (data['Cluster'] == 1) & \n",
    "    (data['Life_Stage'] == 5),\n",
    "    'cluster_detail'\n",
    "] = 6\n",
    "\n",
    "\n",
    "# 클러스터1_쇼핑 주 이용자 그룹\n",
    "data.loc[\n",
    "    (data['Cluster'] == 1) & \n",
    "    (data['1순위업종'].str.contains('쇼핑', na=False)),\n",
    "    'cluster_detail'\n",
    "] = 7\n",
    "\n",
    "# 클러스터1_교통 주 이용자 그룹\n",
    "data.loc[\n",
    "    (data['Cluster'] == 1) & \n",
    "    (data['1순위업종'].str.contains('교통', na=False)),  # 교통비 기준\n",
    "    'cluster_detail'\n",
    "] = 8"
   ]
  },
  {
   "cell_type": "code",
   "execution_count": 15,
   "metadata": {},
   "outputs": [],
   "source": [
    "# 클러스터2_40대_경제활동 그룹\n",
    "data.loc[\n",
    "    (data['Cluster'] == 2) & \n",
    "    (data['연령'] >= 40) & \n",
    "    (data['연령'] < 50) & \n",
    "    (data['총이용금액'] >= 1.781954e+06),\n",
    "    'cluster_detail'\n",
    "] = 9\n",
    "\n",
    "# 클러스터2_쇼핑 주 이용자 그룹\n",
    "data.loc[\n",
    "    (data['Cluster'] == 2) & \n",
    "    (data['1순위업종'].str.contains('쇼핑', na=False)),\n",
    "    'cluster_detail'\n",
    "] = 9\n",
    "\n"
   ]
  },
  {
   "cell_type": "code",
   "execution_count": 16,
   "metadata": {},
   "outputs": [],
   "source": [
    "# 클러스터2_30대_교통비 중심 그룹\n",
    "data.loc[\n",
    "    (data['Cluster'] == 2) & \n",
    "    (data['연령'] >= 30) & \n",
    "    (data['연령'] < 40) & \n",
    "    (data['1순위업종'].str.contains('교통', na=False)),  # 교통비 관련 소비 기준\n",
    "    'cluster_detail'\n",
    "] = 10\n",
    "\n",
    "# 클러스터2_Life Stage 4 그룹\n",
    "data.loc[\n",
    "    (data['Cluster'] == 2) & \n",
    "    (data['Life_Stage'] == 4),\n",
    "    'cluster_detail'\n",
    "] = 9"
   ]
  },
  {
   "cell_type": "code",
   "execution_count": 17,
   "metadata": {},
   "outputs": [],
   "source": [
    "# 클러스터3_30대_활동적 그룹\n",
    "data.loc[\n",
    "    (data['Cluster'] == 3) & \n",
    "    (data['연령'] >= 30) & \n",
    "    (data['연령'] < 40) & \n",
    "    (data['1순위업종'].str.contains('여행|운동', na=False)),\n",
    "    'cluster_detail'\n",
    "] = 11\n",
    "\n",
    "\n",
    "# 클러스터3_Life Stage 3 그룹\n",
    "data.loc[\n",
    "    (data['Cluster'] == 3) & \n",
    "    (data['Life_Stage'] == 3),\n",
    "    'cluster_detail'\n",
    "] = 12\n",
    "\n",
    "# 클러스터3_사교활동 주 이용자 그룹\n",
    "data.loc[\n",
    "    (data['Cluster'] == 3) & \n",
    "    (data['1순위업종'].str.contains('사교|활동', na=False)),  # 사교활동 관련 업종 필터\n",
    "    'cluster_detail'\n",
    "] = 12\n"
   ]
  },
  {
   "cell_type": "code",
   "execution_count": 18,
   "metadata": {},
   "outputs": [],
   "source": [
    "# 클러스터0_고액 소비자 그룹\n",
    "data.loc[\n",
    "    (data['Cluster'] == 0) & \n",
    "    (data['총이용금액'] >= 4.231644e+06),\n",
    "    'cluster_detail'\n",
    "] = 13\n",
    "\n",
    "# 클러스터2_고액 소비자 그룹\n",
    "data.loc[\n",
    "    (data['Cluster'] == 2) & \n",
    "    (data['총이용금액'] >= 4.231644e+06),\n",
    "    'cluster_detail'\n",
    "] = 13\n",
    "# 클러스터3_고액 소비자 그룹\n",
    "data.loc[\n",
    "    (data['Cluster'] == 3) & \n",
    "    (data['총이용금액'] >= 4.231644e+06),\n",
    "    'cluster_detail'\n",
    "] = 13\n",
    "# 클러스터3_40대_고소득 그룹\n",
    "data.loc[\n",
    "    (data['Cluster'] == 3) & \n",
    "    (data['연령'] >= 40) & \n",
    "    (data['연령'] < 50) & \n",
    "    (data['총이용금액'] >= 4.231644e+06),\n",
    "    'cluster_detail'\n",
    "] = 14"
   ]
  },
  {
   "cell_type": "code",
   "execution_count": 19,
   "metadata": {},
   "outputs": [],
   "source": [
    "\n",
    "\n",
    "# 클러스터0_소액 소비자 그룹\n",
    "data.loc[\n",
    "    (data['Cluster'] == 3) & \n",
    "    (data['총이용금액'] < 3.331110e+06),\n",
    "    'cluster_detail'\n",
    "] = 14\n",
    "\n",
    "# 클러스터3_소액 소비자 그룹\n",
    "data.loc[\n",
    "    (data['Cluster'] == 3) & \n",
    "    (data['총이용금액'] < 3.331110e+06),\n",
    "    'cluster_detail'\n",
    "] = 14\n",
    "\n",
    "# 클러스터0_업종정보_누락 그룹\n",
    "data.loc[\n",
    "    (data['Cluster'] == 0) & \n",
    "    (data['1순위업종'] == 'Missing'),\n",
    "    'cluster_detail'\n",
    "] = 14"
   ]
  },
  {
   "cell_type": "code",
   "execution_count": null,
   "metadata": {},
   "outputs": [
    {
     "data": {
      "text/html": [
       "<div>\n",
       "<style scoped>\n",
       "    .dataframe tbody tr th:only-of-type {\n",
       "        vertical-align: middle;\n",
       "    }\n",
       "\n",
       "    .dataframe tbody tr th {\n",
       "        vertical-align: top;\n",
       "    }\n",
       "\n",
       "    .dataframe thead th {\n",
       "        text-align: right;\n",
       "    }\n",
       "</style>\n",
       "<table border=\"1\" class=\"dataframe\">\n",
       "  <thead>\n",
       "    <tr style=\"text-align: right;\">\n",
       "      <th></th>\n",
       "      <th>정규화_부유도</th>\n",
       "      <th>Life_Stage</th>\n",
       "      <th>VIP등급코드</th>\n",
       "      <th>1순위업종</th>\n",
       "      <th>2순위업종</th>\n",
       "      <th>3순위업종</th>\n",
       "      <th>기준년월</th>\n",
       "      <th>연령</th>\n",
       "      <th>회원여부_이용가능</th>\n",
       "      <th>회원여부_이용가능_CA</th>\n",
       "      <th>...</th>\n",
       "      <th>총연회비</th>\n",
       "      <th>연체비율</th>\n",
       "      <th>부유도_지표</th>\n",
       "      <th>이용금액_신판_B0M</th>\n",
       "      <th>이용금액_신판_R3M</th>\n",
       "      <th>이용금액_신판_R6M</th>\n",
       "      <th>이용금액_신판_R12M</th>\n",
       "      <th>Cluster</th>\n",
       "      <th>cluster_detail</th>\n",
       "      <th>distance</th>\n",
       "    </tr>\n",
       "  </thead>\n",
       "  <tbody>\n",
       "  </tbody>\n",
       "</table>\n",
       "<p>0 rows × 87 columns</p>\n",
       "</div>"
      ],
      "text/plain": [
       "Empty DataFrame\n",
       "Columns: [정규화_부유도, Life_Stage, VIP등급코드, 1순위업종, 2순위업종, 3순위업종, 기준년월, 연령, 회원여부_이용가능, 회원여부_이용가능_CA, 회원여부_이용가능_카드론, 소지여부_신용, 소지카드수_유효_신용, 소지카드수_이용가능_신용, 입회일자_신용, 입회경과개월수_신용, 회원여부_연체, 이용거절여부_카드론, 동의여부_한도증액안내, 수신거부여부_TM, 수신거부여부_DM, 수신거부여부_메일, 수신거부여부_SMS, 탈회횟수_누적, 최종탈회후경과월, 탈회횟수_발급6개월이내, 탈회횟수_발급1년이내, 마케팅동의여부, 유효카드수_신용체크, 유효카드수_신용, 유효카드수_신용_가족, 유효카드수_체크, 유효카드수_체크_가족, 이용가능카드수_신용체크, 이용가능카드수_신용, 이용가능카드수_신용_가족, 이용가능카드수_체크, 이용가능카드수_체크_가족, 이용카드수_신용체크, 이용카드수_신용, 이용카드수_신용_가족, 이용카드수_체크, 이용카드수_체크_가족, 이용금액_R3M_신용체크, 이용금액_R3M_신용, 이용금액_R3M_신용_가족, 이용금액_R3M_체크, 이용금액_R3M_체크_가족, _1순위카드이용금액, _1순위카드이용건수, _2순위카드이용금액, _2순위카드이용건수, 최종유효년월_신용_이용가능, 최종유효년월_신용_이용, 최종카드발급일자, 보유여부_해외겸용_본인, 이용가능여부_해외겸용_본인, 이용여부_3M_해외겸용_본인, 보유여부_해외겸용_신용_본인, 이용가능여부_해외겸용_신용_본인, 이용여부_3M_해외겸용_신용_본인, 연회비발생카드수_B0M, 연회비할인카드수_B0M, 기본연회비_B0M, 제휴연회비_B0M, 할인금액_기본연회비_B0M, 할인금액_제휴연회비_B0M, 청구금액_기본연회비_B0M, 청구금액_제휴연회비_B0M, 상품관련면제카드수_B0M, 임직원면제카드수_B0M, 우수회원면제카드수_B0M, 기타면제카드수_B0M, 카드신청건수, 최종카드발급경과월, 총이용금액, 총유효카드수, 총연회비, 연체비율, 부유도_지표, 이용금액_신판_B0M, 이용금액_신판_R3M, 이용금액_신판_R6M, 이용금액_신판_R12M, Cluster, cluster_detail, distance]\n",
       "Index: []\n",
       "\n",
       "[0 rows x 87 columns]"
      ]
     },
     "execution_count": 57,
     "metadata": {},
     "output_type": "execute_result"
    }
   ],
   "source": [
    "data[(data['총이용금액']  < 7.369600e+04)& (data['Cluster']==3)]"
   ]
  },
  {
   "cell_type": "code",
   "execution_count": 66,
   "metadata": {},
   "outputs": [
    {
     "data": {
      "text/html": [
       "<div>\n",
       "<style scoped>\n",
       "    .dataframe tbody tr th:only-of-type {\n",
       "        vertical-align: middle;\n",
       "    }\n",
       "\n",
       "    .dataframe tbody tr th {\n",
       "        vertical-align: top;\n",
       "    }\n",
       "\n",
       "    .dataframe thead th {\n",
       "        text-align: right;\n",
       "    }\n",
       "</style>\n",
       "<table border=\"1\" class=\"dataframe\">\n",
       "  <thead>\n",
       "    <tr style=\"text-align: right;\">\n",
       "      <th></th>\n",
       "      <th>정규화_부유도</th>\n",
       "      <th>Life_Stage</th>\n",
       "      <th>VIP등급코드</th>\n",
       "      <th>1순위업종</th>\n",
       "      <th>2순위업종</th>\n",
       "      <th>3순위업종</th>\n",
       "      <th>기준년월</th>\n",
       "      <th>연령</th>\n",
       "      <th>회원여부_이용가능</th>\n",
       "      <th>회원여부_이용가능_CA</th>\n",
       "      <th>...</th>\n",
       "      <th>총연회비</th>\n",
       "      <th>연체비율</th>\n",
       "      <th>부유도_지표</th>\n",
       "      <th>이용금액_신판_B0M</th>\n",
       "      <th>이용금액_신판_R3M</th>\n",
       "      <th>이용금액_신판_R6M</th>\n",
       "      <th>이용금액_신판_R12M</th>\n",
       "      <th>Cluster</th>\n",
       "      <th>cluster_detail</th>\n",
       "      <th>distance</th>\n",
       "    </tr>\n",
       "  </thead>\n",
       "  <tbody>\n",
       "  </tbody>\n",
       "</table>\n",
       "<p>0 rows × 87 columns</p>\n",
       "</div>"
      ],
      "text/plain": [
       "Empty DataFrame\n",
       "Columns: [정규화_부유도, Life_Stage, VIP등급코드, 1순위업종, 2순위업종, 3순위업종, 기준년월, 연령, 회원여부_이용가능, 회원여부_이용가능_CA, 회원여부_이용가능_카드론, 소지여부_신용, 소지카드수_유효_신용, 소지카드수_이용가능_신용, 입회일자_신용, 입회경과개월수_신용, 회원여부_연체, 이용거절여부_카드론, 동의여부_한도증액안내, 수신거부여부_TM, 수신거부여부_DM, 수신거부여부_메일, 수신거부여부_SMS, 탈회횟수_누적, 최종탈회후경과월, 탈회횟수_발급6개월이내, 탈회횟수_발급1년이내, 마케팅동의여부, 유효카드수_신용체크, 유효카드수_신용, 유효카드수_신용_가족, 유효카드수_체크, 유효카드수_체크_가족, 이용가능카드수_신용체크, 이용가능카드수_신용, 이용가능카드수_신용_가족, 이용가능카드수_체크, 이용가능카드수_체크_가족, 이용카드수_신용체크, 이용카드수_신용, 이용카드수_신용_가족, 이용카드수_체크, 이용카드수_체크_가족, 이용금액_R3M_신용체크, 이용금액_R3M_신용, 이용금액_R3M_신용_가족, 이용금액_R3M_체크, 이용금액_R3M_체크_가족, _1순위카드이용금액, _1순위카드이용건수, _2순위카드이용금액, _2순위카드이용건수, 최종유효년월_신용_이용가능, 최종유효년월_신용_이용, 최종카드발급일자, 보유여부_해외겸용_본인, 이용가능여부_해외겸용_본인, 이용여부_3M_해외겸용_본인, 보유여부_해외겸용_신용_본인, 이용가능여부_해외겸용_신용_본인, 이용여부_3M_해외겸용_신용_본인, 연회비발생카드수_B0M, 연회비할인카드수_B0M, 기본연회비_B0M, 제휴연회비_B0M, 할인금액_기본연회비_B0M, 할인금액_제휴연회비_B0M, 청구금액_기본연회비_B0M, 청구금액_제휴연회비_B0M, 상품관련면제카드수_B0M, 임직원면제카드수_B0M, 우수회원면제카드수_B0M, 기타면제카드수_B0M, 카드신청건수, 최종카드발급경과월, 총이용금액, 총유효카드수, 총연회비, 연체비율, 부유도_지표, 이용금액_신판_B0M, 이용금액_신판_R3M, 이용금액_신판_R6M, 이용금액_신판_R12M, Cluster, cluster_detail, distance]\n",
       "Index: []\n",
       "\n",
       "[0 rows x 87 columns]"
      ]
     },
     "execution_count": 66,
     "metadata": {},
     "output_type": "execute_result"
    }
   ],
   "source": [
    "data[data['1순위업종'].isnull()]"
   ]
  },
  {
   "cell_type": "code",
   "execution_count": 88,
   "metadata": {},
   "outputs": [
    {
     "name": "stdout",
     "output_type": "stream",
     "text": [
      "cluster_detail\n",
      " 13    57768\n",
      " 7     50816\n",
      " 14    37377\n",
      " 0     26939\n",
      " 2     25972\n",
      " 9     20029\n",
      " 6     17708\n",
      " 1     15961\n",
      "-1     10430\n",
      " 8     10285\n",
      " 3      9412\n",
      " 4      4495\n",
      " 10      101\n",
      "Name: count, dtype: int64\n"
     ]
    }
   ],
   "source": [
    "print(data['cluster_detail'].value_counts())\n"
   ]
  },
  {
   "cell_type": "code",
   "execution_count": 76,
   "metadata": {},
   "outputs": [
    {
     "name": "stdout",
     "output_type": "stream",
     "text": [
      "cluster_detail\n",
      " 14    66815\n",
      " 7     50816\n",
      " 15    28330\n",
      " 0     26939\n",
      " 2     25972\n",
      " 11    17710\n",
      " 6     17708\n",
      " 1     15961\n",
      "-1     10430\n",
      " 8     10285\n",
      " 3      9412\n",
      " 4      4495\n",
      " 9      2319\n",
      " 10      101\n",
      "Name: count, dtype: int64\n"
     ]
    }
   ],
   "source": [
    "print(data['cluster_detail'].value_counts())\n"
   ]
  },
  {
   "cell_type": "code",
   "execution_count": 78,
   "metadata": {},
   "outputs": [
    {
     "name": "stdout",
     "output_type": "stream",
     "text": [
      "cluster_detail\n",
      " 7     50816\n",
      " 14    49001\n",
      " 9     37355\n",
      " 15    28330\n",
      " 0     26939\n",
      " 2     25972\n",
      " 6     17708\n",
      " 1     15961\n",
      "-1     10430\n",
      " 8     10285\n",
      " 3      9412\n",
      " 4      4495\n",
      " 10      589\n",
      "Name: count, dtype: int64\n"
     ]
    }
   ],
   "source": [
    "print(data['cluster_detail'].value_counts())\n"
   ]
  },
  {
   "cell_type": "code",
   "execution_count": null,
   "metadata": {},
   "outputs": [],
   "source": []
  },
  {
   "cell_type": "code",
   "execution_count": 112,
   "metadata": {},
   "outputs": [
    {
     "data": {
      "text/plain": [
       "array(['Missing', '쇼핑', '납부', '교통', '사교활동', '교육', '해외', '의료', '일상생활',\n",
       "       '여유생활', '요식'], dtype=object)"
      ]
     },
     "execution_count": 112,
     "metadata": {},
     "output_type": "execute_result"
    }
   ],
   "source": [
    "data['1순위업종'].unique()"
   ]
  },
  {
   "cell_type": "code",
   "execution_count": 20,
   "metadata": {},
   "outputs": [],
   "source": [
    "# 고유 카테고리를 리스트로 정의\n",
    "categories = ['Missing', '쇼핑', '납부', '교통', '사교활동', '교육', '해외', '의료', '일상생활', '여유생활', '요식']\n",
    "\n",
    "# 카테고리를 0부터 순서대로 매핑\n",
    "category_mapping = {category: idx for idx, category in enumerate(categories)}\n",
    "\n",
    "# 매핑을 사용하여 '1순위업종', '2순위업종', '3순위업종'을 수치형으로 변환\n",
    "for col in ['1순위업종', '2순위업종', '3순위업종']:\n",
    "    data[col] = data[col].map(category_mapping)\n"
   ]
  },
  {
   "cell_type": "code",
   "execution_count": null,
   "metadata": {},
   "outputs": [],
   "source": []
  },
  {
   "cell_type": "markdown",
   "metadata": {},
   "source": [
    "### 군집예측 "
   ]
  },
  {
   "cell_type": "code",
   "execution_count": 23,
   "metadata": {},
   "outputs": [],
   "source": [
    "features = [ 'Life_Stage', '연령', '총이용금액', '총유효카드수']"
   ]
  },
  {
   "cell_type": "code",
   "execution_count": 22,
   "metadata": {},
   "outputs": [
    {
     "data": {
      "text/plain": [
       "{'Missing': 0,\n",
       " '쇼핑': 1,\n",
       " '납부': 2,\n",
       " '교통': 3,\n",
       " '사교활동': 4,\n",
       " '교육': 5,\n",
       " '해외': 6,\n",
       " '의료': 7,\n",
       " '일상생활': 8,\n",
       " '여유생활': 9,\n",
       " '요식': 10}"
      ]
     },
     "execution_count": 22,
     "metadata": {},
     "output_type": "execute_result"
    }
   ],
   "source": [
    "category_mapping"
   ]
  },
  {
   "cell_type": "code",
   "execution_count": 24,
   "metadata": {},
   "outputs": [],
   "source": [
    "new_user = {'Life_Stage': 4, '연령': 30, '총이용금액': 100000, '총유효카드수': 2}\n",
    "new_user_df = pd.DataFrame([new_user])"
   ]
  },
  {
   "cell_type": "code",
   "execution_count": 25,
   "metadata": {},
   "outputs": [],
   "source": [
    "\n",
    "distances = euclidean_distances(data[features], new_user_df)\n",
    "data['distance'] = distances\n"
   ]
  },
  {
   "cell_type": "code",
   "execution_count": 26,
   "metadata": {},
   "outputs": [
    {
     "name": "stdout",
     "output_type": "stream",
     "text": [
      "예측된 군집: 14\n"
     ]
    }
   ],
   "source": [
    "closest_cluster = data.loc[data['distance'].idxmin(), 'cluster_detail']\n",
    "print(f\"예측된 군집: {closest_cluster}\")"
   ]
  },
  {
   "cell_type": "code",
   "execution_count": null,
   "metadata": {},
   "outputs": [],
   "source": []
  },
  {
   "cell_type": "code",
   "execution_count": 27,
   "metadata": {},
   "outputs": [
    {
     "data": {
      "text/html": [
       "<div>\n",
       "<style scoped>\n",
       "    .dataframe tbody tr th:only-of-type {\n",
       "        vertical-align: middle;\n",
       "    }\n",
       "\n",
       "    .dataframe tbody tr th {\n",
       "        vertical-align: top;\n",
       "    }\n",
       "\n",
       "    .dataframe thead th {\n",
       "        text-align: right;\n",
       "    }\n",
       "</style>\n",
       "<table border=\"1\" class=\"dataframe\">\n",
       "  <thead>\n",
       "    <tr style=\"text-align: right;\">\n",
       "      <th></th>\n",
       "      <th>Cluster_num</th>\n",
       "      <th>카드명</th>\n",
       "    </tr>\n",
       "  </thead>\n",
       "  <tbody>\n",
       "    <tr>\n",
       "      <th>0</th>\n",
       "      <td>0</td>\n",
       "      <td>JADE Classic</td>\n",
       "    </tr>\n",
       "    <tr>\n",
       "      <th>1</th>\n",
       "      <td>0</td>\n",
       "      <td>현대카드 Summit</td>\n",
       "    </tr>\n",
       "    <tr>\n",
       "      <th>2</th>\n",
       "      <td>0</td>\n",
       "      <td>현대카드 MX Black Edition2</td>\n",
       "    </tr>\n",
       "    <tr>\n",
       "      <th>3</th>\n",
       "      <td>1</td>\n",
       "      <td>현대카드 Summit</td>\n",
       "    </tr>\n",
       "    <tr>\n",
       "      <th>4</th>\n",
       "      <td>1</td>\n",
       "      <td>신한카드 The BEST-F(캐시백형)</td>\n",
       "    </tr>\n",
       "  </tbody>\n",
       "</table>\n",
       "</div>"
      ],
      "text/plain": [
       "   Cluster_num                     카드명\n",
       "0            0            JADE Classic\n",
       "1            0             현대카드 Summit\n",
       "2            0  현대카드 MX Black Edition2\n",
       "3            1             현대카드 Summit\n",
       "4            1   신한카드 The BEST-F(캐시백형)"
      ]
     },
     "execution_count": 27,
     "metadata": {},
     "output_type": "execute_result"
    }
   ],
   "source": [
    "card = pd.read_csv('Cluster_Card.csv' , encoding=\"euc-kr\")\n",
    "card.head()"
   ]
  },
  {
   "cell_type": "code",
   "execution_count": 28,
   "metadata": {},
   "outputs": [
    {
     "name": "stdout",
     "output_type": "stream",
     "text": [
      "추천 카드 : 45              JADE Classic\n",
      "46               현대카드 Summit\n",
      "47    현대카드 MX Black Edition2\n",
      "Name: 카드명, dtype: object\n"
     ]
    }
   ],
   "source": [
    "print(f'추천 카드 : {card[card['Cluster_num'] == closest_cluster].카드명}')"
   ]
  },
  {
   "cell_type": "code",
   "execution_count": 29,
   "metadata": {},
   "outputs": [
    {
     "name": "stdout",
     "output_type": "stream",
     "text": [
      "추천 카드 : JADE Classic, 현대카드 Summit, 현대카드 MX Black Edition2\n"
     ]
    }
   ],
   "source": [
    "print(f\"추천 카드 : {', '.join(card[card['Cluster_num'] == closest_cluster].카드명.tolist())}\")\n"
   ]
  },
  {
   "cell_type": "code",
   "execution_count": null,
   "metadata": {},
   "outputs": [],
   "source": []
  }
 ],
 "metadata": {
  "kernelspec": {
   "display_name": "Python 3",
   "language": "python",
   "name": "python3"
  },
  "language_info": {
   "codemirror_mode": {
    "name": "ipython",
    "version": 3
   },
   "file_extension": ".py",
   "mimetype": "text/x-python",
   "name": "python",
   "nbconvert_exporter": "python",
   "pygments_lexer": "ipython3",
   "version": "3.12.7"
  }
 },
 "nbformat": 4,
 "nbformat_minor": 2
}
